{
 "cells": [
  {
   "cell_type": "markdown",
   "metadata": {},
   "source": [
    "You can run R code in this Jupyter Notebook if you'd prefer to work in an in-browser Sandbox.  \n",
    "The R syntax will largely be the same between the two editors, with key differences highlighted in the Getting Started with your Lab.ipynb file.\n",
    "\n",
    "You can display visual outputs and graphs underneath your code cells using plotting functions or print()."
   ]
  },
  {
   "cell_type": "code",
   "execution_count": null,
   "metadata": {},
   "outputs": [],
   "source": [
    "library(ggplot2)"
   ]
  },
  {
   "cell_type": "code",
   "execution_count": null,
   "metadata": {},
   "outputs": [],
   "source": [
    "custdata= read.table('<your-file>.tsv',header=T,sep='\\t')\n",
    "user_data = read.csv(file=\"<your-file>.csv\")"
   ]
  }
 ],
 "metadata": {
  "kernelspec": {
   "display_name": "R",
   "language": "R",
   "name": "ir"
  }
 },
 "nbformat": 4,
 "nbformat_minor": 4
}
