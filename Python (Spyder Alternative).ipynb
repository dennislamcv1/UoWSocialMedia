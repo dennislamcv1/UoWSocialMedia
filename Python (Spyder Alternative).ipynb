{
 "cells": [
  {
   "cell_type": "markdown",
   "metadata": {},
   "source": [
    "You can run Python3 code in this Jupyter Notebook if you'd prefer to work in an in-browser Sandbox.  \n",
    "The Python syntax will be largely the same between the two editors of Spyder and Jupyter Notebook. "
   ]
  },
  {
   "cell_type": "code",
   "execution_count": null,
   "metadata": {},
   "outputs": [],
   "source": [
    "# To run your python files\n",
    "!python3 <your-filename.py>\n",
    "\n",
    "# Or copy/paste .py script code in direction and \"Run\" a Jupyter Notebook cell.\n",
    "import tweepy"
   ]
  }
 ],
 "metadata": {
  "kernelspec": {
   "display_name": "Python 3",
   "language": "python",
   "name": "python3"
  },
  "language_info": {
   "codemirror_mode": {
    "name": "ipython",
    "version": 3
   },
   "file_extension": ".py",
   "mimetype": "text/x-python",
   "name": "python",
   "nbconvert_exporter": "python",
   "pygments_lexer": "ipython3",
   "version": "3.7.6"
  }
 },
 "nbformat": 4,
 "nbformat_minor": 4
}
